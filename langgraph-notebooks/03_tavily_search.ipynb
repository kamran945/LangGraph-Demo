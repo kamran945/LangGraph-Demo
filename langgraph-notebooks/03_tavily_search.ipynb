{
 "cells": [
  {
   "cell_type": "code",
   "execution_count": 1,
   "metadata": {},
   "outputs": [
    {
     "data": {
      "text/plain": [
       "True"
      ]
     },
     "execution_count": 1,
     "metadata": {},
     "output_type": "execute_result"
    }
   ],
   "source": [
    "from langchain_groq.chat_models import ChatGroq\n",
    "from langchain_community.tools.tavily_search import TavilySearchResults\n",
    "from tavily import TavilyClient\n",
    "\n",
    "from dotenv import load_dotenv, find_dotenv\n",
    "\n",
    "# Load environment variables from.env file\n",
    "load_dotenv(find_dotenv(), override=True)"
   ]
  },
  {
   "cell_type": "code",
   "execution_count": 2,
   "metadata": {},
   "outputs": [],
   "source": [
    "client = TavilyClient()"
   ]
  },
  {
   "cell_type": "code",
   "execution_count": 3,
   "metadata": {},
   "outputs": [
    {
     "data": {
      "text/plain": [
       "{'query': 'whatis langgraph?',\n",
       " 'follow_up_questions': None,\n",
       " 'answer': None,\n",
       " 'images': [],\n",
       " 'results': [{'title': \"Introduction to LangGraph: A Beginner's Guide - Medium\",\n",
       "   'url': 'https://medium.com/@cplog/introduction-to-langgraph-a-beginners-guide-14f9be027141',\n",
       "   'content': 'What is LangGraph? LangGraph is a library built on top of LangChain, designed to add cyclic computational capabilities to your LLM applications. While LangChain allows you to define chains of',\n",
       "   'score': 0.99973255,\n",
       "   'raw_content': None}],\n",
       " 'response_time': 2.28}"
      ]
     },
     "execution_count": 3,
     "metadata": {},
     "output_type": "execute_result"
    }
   ],
   "source": [
    "response = client.search(\n",
    "    query=\"whatis langgraph?\",\n",
    "    search_depth='advanced',\n",
    "    max_results=1,\n",
    ")\n",
    "response"
   ]
  },
  {
   "cell_type": "code",
   "execution_count": 4,
   "metadata": {},
   "outputs": [
    {
     "data": {
      "text/plain": [
       "'LangGraph is a stateful, orchestration framework that enables the creation of cyclical graphs for agent workflows. It offers benefits such as cycles, controllability, and persistence, which are essential for building multi-actor applications with LLMs. LangGraph is built on top of LangChain, allowing for the easy creation of custom chains and flow engineering.'"
      ]
     },
     "execution_count": 4,
     "metadata": {},
     "output_type": "execute_result"
    }
   ],
   "source": [
    "answer = client.qna_search(query=\"what is langgraph?\")\n",
    "answer"
   ]
  },
  {
   "cell_type": "markdown",
   "metadata": {},
   "source": [
    "## Enhancing LLM with TavilySearch results"
   ]
  },
  {
   "cell_type": "code",
   "execution_count": null,
   "metadata": {},
   "outputs": [
    {
     "data": {
      "text/plain": [
       "[{'title': '️LangGraph - GitHub Pages',\n",
       "  'url': 'https://langchain-ai.github.io/langgraph/',\n",
       "  'content': 'Overview. LangGraph is a library for building stateful, multi-actor applications with LLMs, used to create agent and multi-agent workflows. Compared to other LLM frameworks, it offers these core benefits: cycles, controllability, and persistence. LangGraph allows you to define flows that involve cycles, essential for most agentic architectures',\n",
       "  'score': 0.9991736,\n",
       "  'raw_content': None},\n",
       " {'title': 'LangGraph Tutorial with Practical Example - gettingstarted.ai',\n",
       "  'url': 'https://www.gettingstarted.ai/langgraph-tutorial-with-example/',\n",
       "  'content': \"LangGraph is a library built by the LangChain team that aims to help developers create graph-based single or multi-agent AI applications. As a low-level framework, LangGraph lets you control how agents interact with each other, which tools to use, and how information flows within the application. LangGraph uses this graph concept to organize AI agents and their interactions. We can then build our Graph by passing our State to the StateGraph class so that all graph nodes communicate by reading and writing to the shared state. A LangGraph node takes the state of the graph as a parameter and returns an updated state after it is executed. Great, now we'll wrap these mock methods and expose them as tools which will become part of the Tools node within our LangGraph graph.\",\n",
       "  'score': 0.9988796,\n",
       "  'raw_content': None},\n",
       " {'title': \"Introduction to LangGraph: A Beginner's Guide - Medium\",\n",
       "  'url': 'https://medium.com/@cplog/introduction-to-langgraph-a-beginners-guide-14f9be027141',\n",
       "  'content': 'Feb 15, 2024. --. 5. LangGraph is a powerful tool for building stateful, multi-actor applications with Large Language Models (LLMs). It extends the LangChain library, allowing you to coordinate',\n",
       "  'score': 0.9984269,\n",
       "  'raw_content': None},\n",
       " {'title': 'LangGraph Tutorial: What Is LangGraph and How to Use It?',\n",
       "  'url': 'https://www.datacamp.com/tutorial/langgraph-tutorial',\n",
       "  'content': 'LangGraph provides a framework for defining, coordinating, and executing multiple LLM agents (or chains) in a structured manner. It simplifies the development process by enabling the creation of cyclical graphs, which are essential for developing agent runtimes. With LangGraph, we can easily build robust, scalable, and flexible multi-agent systems.',\n",
       "  'score': 0.9976859,\n",
       "  'raw_content': None},\n",
       " {'title': 'LangGraph - LangChain',\n",
       "  'url': 'https://www.langchain.com/langgraph',\n",
       "  'content': \"LangGraph's flexible framework supports diverse control flows - single agent, multi-agent, hierarchical, sequential - and robustly handles realistic, complex scenarios. Ensure reliability with easy-to-add moderation and quality loops that prevent agents from veering off course. Use LangGraph Platform to templatize your cognitive\",\n",
       "  'score': 0.99611557,\n",
       "  'raw_content': None}]"
      ]
     },
     "execution_count": 26,
     "metadata": {},
     "output_type": "execute_result"
    }
   ],
   "source": [
    "query = \"Tell me about the applications of LangGraph?\"\n",
    "search_response = client.search(query=query,\n",
    "                                search_depth='advanced',\n",
    "                                max_results=5)['results']\n",
    "search_response"
   ]
  },
  {
   "cell_type": "code",
   "execution_count": 27,
   "metadata": {},
   "outputs": [],
   "source": [
    "llm = ChatGroq(model=\"llama-3.1-70b-versatile\",\n",
    "                    stop_sequences=\"[end]\")"
   ]
  },
  {
   "cell_type": "code",
   "execution_count": 28,
   "metadata": {},
   "outputs": [],
   "source": [
    "prompt = [\n",
    "    {'role': 'system',\n",
    "     'content': '''you are a helpful AI Assistant that answers the questions clearly.\n",
    "                 you answer the question in a structured report format.''',},\n",
    "    {'role': 'user',\n",
    "     'content': f'''Information: {search_response}.\n",
    "                Given the information provided above, answer the following questions: {query}'''}\n",
    "\n",
    "]"
   ]
  },
  {
   "cell_type": "code",
   "execution_count": 29,
   "metadata": {},
   "outputs": [
    {
     "name": "stdout",
     "output_type": "stream",
     "text": [
      "**Report: Applications of LangGraph**\n",
      "\n",
      "**Introduction**\n",
      "LangGraph is a library for building stateful, multi-actor applications with Large Language Models (LLMs). It is designed to create agent and multi-agent workflows, offering core benefits such as cycles, controllability, and persistence.\n",
      "\n",
      "**Applications of LangGraph**\n",
      "\n",
      "Based on the provided information, LangGraph has various applications in the following areas:\n",
      "\n",
      "1. **Building Stateful, Multi-Actor Applications**: LangGraph allows developers to create applications that involve multiple actors or agents, enabling them to interact with each other and share information.\n",
      "2. **Agent and Multi-Agent Workflows**: LangGraph is used to create workflows that involve agents, which can be used in various applications such as customer service, chatbots, and virtual assistants.\n",
      "3. **Cognitive Architectures**: LangGraph can be used to build cognitive architectures, which are software frameworks that simulate human cognition and provide a structure for integrating multiple AI components.\n",
      "4. **Graph-Based Single or Multi-Agent AI Applications**: LangGraph is used to create graph-based AI applications that involve single or multiple agents, which can be used in various domains such as natural language processing, computer vision, and robotics.\n",
      "5. **Robust, Scalable, and Flexible Multi-Agent Systems**: LangGraph enables the creation of robust, scalable, and flexible multi-agent systems that can be used in various applications such as smart cities, intelligent transportation systems, and healthcare.\n",
      "\n",
      "**Key Features**\n",
      "\n",
      "LangGraph's flexible framework supports diverse control flows, including single agent, multi-agent, hierarchical, and sequential flows. It also robustly handles realistic, complex scenarios and ensures reliability with easy-to-add moderation and quality loops.\n",
      "\n",
      "**Conclusion**\n",
      "In summary, LangGraph is a powerful tool for building stateful, multi-actor applications with LLMs. Its applications range from building agent and multi-agent workflows to creating cognitive architectures and graph-based single or multi-agent AI applications.\n"
     ]
    }
   ],
   "source": [
    "response = llm.invoke(prompt)\n",
    "print(response.content)"
   ]
  }
 ],
 "metadata": {
  "kernelspec": {
   "display_name": ".venv",
   "language": "python",
   "name": "python3"
  },
  "language_info": {
   "codemirror_mode": {
    "name": "ipython",
    "version": 3
   },
   "file_extension": ".py",
   "mimetype": "text/x-python",
   "name": "python",
   "nbconvert_exporter": "python",
   "pygments_lexer": "ipython3",
   "version": "3.10.0"
  }
 },
 "nbformat": 4,
 "nbformat_minor": 2
}
