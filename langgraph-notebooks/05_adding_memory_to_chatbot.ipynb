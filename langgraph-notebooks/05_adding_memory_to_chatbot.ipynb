{
 "cells": [
  {
   "cell_type": "code",
   "execution_count": 7,
   "metadata": {},
   "outputs": [
    {
     "data": {
      "text/plain": [
       "True"
      ]
     },
     "execution_count": 7,
     "metadata": {},
     "output_type": "execute_result"
    }
   ],
   "source": [
    "from typing import List, Annotated\n",
    "from typing_extensions import TypedDict\n",
    "\n",
    "from langchain_groq.chat_models import ChatGroq\n",
    "from langgraph.graph.message import add_messages\n",
    "from langgraph.graph import StateGraph\n",
    "\n",
    "from IPython.display import Image, display\n",
    "\n",
    "from langchain_community.tools.tavily_search import TavilySearchResults\n",
    "from langgraph.prebuilt import ToolNode, tools_condition\n",
    "from langgraph.checkpoint.sqlite import SqliteSaver\n",
    "from langgraph.checkpoint.memory import MemorySaver\n",
    "\n",
    "from dotenv import load_dotenv, find_dotenv\n",
    "\n",
    "# Load environment variables from.env file\n",
    "load_dotenv(find_dotenv(), override=True)"
   ]
  },
  {
   "cell_type": "code",
   "execution_count": 2,
   "metadata": {},
   "outputs": [],
   "source": [
    "tool = TavilySearchResults(max_results=3)\n",
    "tools = [tool]"
   ]
  },
  {
   "cell_type": "code",
   "execution_count": 3,
   "metadata": {},
   "outputs": [],
   "source": [
    "class State(TypedDict):\n",
    "    messages: Annotated[List, add_messages]"
   ]
  },
  {
   "cell_type": "code",
   "execution_count": 4,
   "metadata": {},
   "outputs": [],
   "source": [
    "llm = ChatGroq(model=\"llama-3.1-70b-versatile\",\n",
    "                        stop_sequences=\"[end]\")\n",
    "llm_with_tools = llm.bind_tools(tools=tools)\n",
    "\n",
    "def chatbot(state: State):\n",
    "    return {'messages': [llm_with_tools.invoke(state[\"messages\"])]}"
   ]
  },
  {
   "cell_type": "code",
   "execution_count": 8,
   "metadata": {},
   "outputs": [],
   "source": [
    "graph_builder = StateGraph(State)\n",
    "\n",
    "graph_builder.add_node(\"chatbot\", chatbot)\n",
    "\n",
    "tool_node = ToolNode(tools=tools)\n",
    "graph_builder.add_node(\"tools\", tool_node)\n",
    "graph_builder.add_conditional_edges(\"chatbot\",\n",
    "                                    tools_condition)\n",
    "\n",
    "graph_builder.add_edge(\"tools\", \"chatbot\")\n",
    "\n",
    "graph_builder.set_entry_point(\"chatbot\")\n",
    "# graph_builder.set_finish_point(\"chatbot\")\n",
    "\n",
    "# Compile the graph\n",
    "memory = SqliteSaver.from_conn_string(':memory:')\n",
    "graph = graph_builder.compile(checkpointer=MemorySaver())"
   ]
  },
  {
   "cell_type": "code",
   "execution_count": 9,
   "metadata": {},
   "outputs": [
    {
     "data": {
      "image/jpeg": "[encoded data removed]",
      "text/plain": [
       "<IPython.core.display.Image object>"
      ]
     },
     "metadata": {},
     "output_type": "display_data"
    }
   ],
   "source": [
    "# visualize the graph\n",
    "display(Image(graph.get_graph().draw_mermaid_png()))"
   ]
  },
  {
   "cell_type": "code",
   "execution_count": 11,
   "metadata": {},
   "outputs": [
    {
     "name": "stdout",
     "output_type": "stream",
     "text": [
      "================================\u001b[1m Human Message \u001b[0m=================================\n",
      "\n",
      "What is chatgpt? Tell me about it?\n",
      "==================================\u001b[1m Ai Message \u001b[0m==================================\n",
      "Tool Calls:\n",
      "  tavily_search_results_json (call_5xah)\n",
      " Call ID: call_5xah\n",
      "  Args:\n",
      "    query: What is ChatGPT\n",
      "  tavily_search_results_json (call_7npm)\n",
      " Call ID: call_7npm\n",
      "  Args:\n",
      "    query: ChatGPT information\n",
      "=================================\u001b[1m Tool Message \u001b[0m=================================\n",
      "Name: tavily_search_results_json\n",
      "\n",
      "[{\"url\": \"https://www.zdnet.com/article/how-does-chatgpt-work/\", \"content\": \"ChatGPT is an AI chatbot that can produce fully fleshed-out answers and results based on most of the world's digitally-accessible text-based information. Learn how it uses non-supervised pre-training and transformer architecture to parse queries and generate text.\"}, {\"url\": \"https://openai.com/index/chatgpt/\", \"content\": \"ChatGPT is a model that interacts in a dialogue format and can answer followup questions, admit mistakes, and reject inappropriate requests. It is a research preview and free to use at chatgpt.com. See samples of how it responds to various topics and questions.\"}, {\"url\": \"https://www.techradar.com/news/chatgpt-explained\", \"content\": \"ChatGPT explained: everything you need to know about the AI chatbot\\nChatGPT is changing fast – here's everything you need to know\\nWe've recently seen an explosion in the number and the ability of generative artificial intelligence (AI) tools available to everyone, and OpenAI's ChatGPT is leading the way. But ChatGPT was the AI chatbot that took the concept mainstream, earning it another multi-billion investment from Microsoft, which said that it was as important as the invention of the PC and the internet.\\n While GPT-4 isn't a revolutionary leap from GPT-3.5, it is another important step towards chatbots and AI-powered apps that stick closer to the facts and don't go haywire in the ways that we've seen in the recent past.\\n OpenAI also says that safety is a big focus of GPT-4, with OpenAI working for over six months to put it through a better monitoring framework and by alongside experts is a range of specialist fields, like medicine and geopolitics, to make sure its answers are both accurate and sensitive.\\n This means you can show it images and it will respond to them alongside a text prompt – an early example of this, noted by The New York Times, involved giving GPT-4 a photo of some fridge contents and asking what meals you could make from the ingredients.\\n\"}]\n",
      "==================================\u001b[1m Ai Message \u001b[0m==================================\n",
      "\n",
      "ChatGPT is a model that interacts in a dialogue format and can answer follow-up questions, admit mistakes, and reject inappropriate requests. It is trained using reinforcement learning from human feedback and fine-tuned from GPT-3.5. ChatGPT is a free and easy-to-use app that can help you with writing, learning, brainstorming, and more. You can type or talk to ChatGPT and get answers, inspiration, and productivity tips from GPT-4 and other models. It is a research preview and free to use at chatgpt.com.\n"
     ]
    }
   ],
   "source": [
    "config = {'configurable': {'thread_id': '1'}}\n",
    "\n",
    "prompt = 'What is chatgpt? Tell me about it?'\n",
    "\n",
    "# streaming the events. \n",
    "events = graph.stream(\n",
    "    {'messages': [('user', prompt)]}, config, stream_mode='values'\n",
    ")\n",
    "\n",
    "for event in events:\n",
    "    event['messages'][-1].pretty_print()"
   ]
  },
  {
   "cell_type": "code",
   "execution_count": 12,
   "metadata": {},
   "outputs": [
    {
     "name": "stdout",
     "output_type": "stream",
     "text": [
      "================================\u001b[1m Human Message \u001b[0m=================================\n",
      "\n",
      "Tell me about the latest version?\n",
      "==================================\u001b[1m Ai Message \u001b[0m==================================\n",
      "Tool Calls:\n",
      "  tavily_search_results_json (call_v0xc)\n",
      " Call ID: call_v0xc\n",
      "  Args:\n",
      "    query: ChatGPT latest version\n",
      "  tavily_search_results_json (call_t3f5)\n",
      " Call ID: call_t3f5\n",
      "  Args:\n",
      "    query: ChatGPT updates\n",
      "  tavily_search_results_json (call_3jy7)\n",
      " Call ID: call_3jy7\n",
      "  Args:\n",
      "    query: ChatGPT new features\n",
      "=================================\u001b[1m Tool Message \u001b[0m=================================\n",
      "Name: tavily_search_results_json\n",
      "\n",
      "[{\"url\": \"https://www.searchenginejournal.com/6-new-chatgpt-features-include-prompt-examples-file-uploads/493240/\", \"content\": \"6 New ChatGPT Features Include Prompt Examples & File Uploads\\nWith GPT-4 as the new default, longer login duration, and suggested replies, these new ChatGPT features make AI even more user-friendly.\\nOpenAI, the company behind the cutting-edge language model ChatGPT, announced six new features in the latest version to enhance user interaction.\\n SEO Trends 2024\\n10 SEO Problems You Never Knew You Had – And How To Solve Them\\nIn a world ruled by algorithms, SEJ brings timely, relevant information for SEOs, marketers, and entrepreneurs to optimize and grow their businesses -- and careers.\\n SEO Trends 2024\\nIf you’re looking for ways to level up your SEO strategy and prepare for the year ahead, our SEO Trends 2024 ebook is the ultimate authoritative resource.\\n If you’re looking for ways to level up your SEO strategy and prepare for the year ahead, our SEO Trends 2024 ebook is the ultimate authoritative resource.\\n If you’re looking for ways to level up your SEO strategy and prepare for the year ahead, our SEO Trends 2024 ebook is the ultimate authoritative resource.\\n\"}, {\"url\": \"https://openai.com/index/introducing-chatgpt-search/\", \"content\": \"ChatGPT can now search the web in a much better way than before. You can get fast, timely answers with links to relevant web sources, which you would have previously needed to go to a search engine for. ... SearchGPT is a prototype of new AI search features. Oct 3, 2024. Oct 3, 2024. Oct 3, 2024. Introducing canvas, a new way to write and code\"}, {\"url\": \"https://openai.com/chatgpt/overview/\", \"content\": \"Write a message that goes with a kitten gif for a friend on a rough day (opens in a new window) Test my knowledge on ancient civilizations (opens in a new window) ... Explore more features in ChatGPT. Type, talk, and use it your way. With ChatGPT, you can type or start a real-time voice conversation by tapping the soundwave icon in the mobile app.\"}]\n",
      "==================================\u001b[1m Ai Message \u001b[0m==================================\n",
      "\n",
      "The latest version of ChatGPT, GPT-4, has several new features, including the ability to respond to images, provide recipe suggestions from photos of ingredients, and engage in voice conversations with users. The model has also been trained with more human feedback and has improved its ability to understand and discuss images. Additionally, ChatGPT has introduced a new text-to-speech model, which allows for back-and-forth spoken conversation with the AI. The latest version also includes features such as canvas, advanced voice, and o1 models.\n"
     ]
    }
   ],
   "source": [
    "config = {'configurable': {'thread_id': '1'}}\n",
    "\n",
    "prompt = 'Tell me about the latest version?'\n",
    "\n",
    "# streaming the events. \n",
    "events = graph.stream(\n",
    "    {'messages': [('user', prompt)]}, config, stream_mode='values'\n",
    ")\n",
    "\n",
    "for event in events:\n",
    "    event['messages'][-1].pretty_print()"
   ]
  },
  {
   "cell_type": "code",
   "execution_count": 13,
   "metadata": {},
   "outputs": [
    {
     "name": "stdout",
     "output_type": "stream",
     "text": [
      "================================\u001b[1m Human Message \u001b[0m=================================\n",
      "\n",
      "What were we talking about?\n",
      "==================================\u001b[1m Ai Message \u001b[0m==================================\n",
      "\n",
      "We were talking about ChatGPT, a model that interacts in a dialogue format and can answer follow-up questions, admit mistakes, and reject inappropriate requests. We discussed its latest version, GPT-4, and its new features, such as responding to images, providing recipe suggestions, and engaging in voice conversations.\n"
     ]
    }
   ],
   "source": [
    "config = {'configurable': {'thread_id': '1'}}\n",
    "\n",
    "prompt = 'What were we talking about?'\n",
    "\n",
    "# streaming the events. \n",
    "events = graph.stream(\n",
    "    {'messages': [('user', prompt)]}, config, stream_mode='values'\n",
    ")\n",
    "\n",
    "for event in events:\n",
    "    event['messages'][-1].pretty_print()"
   ]
  },
  {
   "cell_type": "code",
   "execution_count": 14,
   "metadata": {},
   "outputs": [
    {
     "name": "stdout",
     "output_type": "stream",
     "text": [
      "================================\u001b[1m Human Message \u001b[0m=================================\n",
      "\n",
      "What were we talking about?\n",
      "==================================\u001b[1m Ai Message \u001b[0m==================================\n",
      "\n",
      "This conversation just started. We haven't discussed anything yet. What would you like to talk about?\n"
     ]
    }
   ],
   "source": [
    "config = {'configurable': {'thread_id': '2'}}\n",
    "\n",
    "prompt = 'What were we talking about?'\n",
    "\n",
    "# streaming the events. \n",
    "events = graph.stream(\n",
    "    {'messages': [('user', prompt)]}, config, stream_mode='values'\n",
    ")\n",
    "\n",
    "for event in events:\n",
    "    event['messages'][-1].pretty_print()"
   ]
  },
  {
   "cell_type": "code",
   "execution_count": 18,
   "metadata": {},
   "outputs": [
    {
     "name": "stdout",
     "output_type": "stream",
     "text": [
      "StateSnapshot(values={'messages': [HumanMessage(content='What is chatgpt?', additional_kwargs={}, response_metadata={}, id='04b73a0c-a931-4763-bc57-0aeb4526d59e'), AIMessage(content='<function=tavily_search_results_json>{\"query\": \"ChatGPT\"}<function=tavily_search_results_json>\\n\\nPlease note that this is a general search query and the results may not provide a specific definition of ChatGPT. If you\\'re looking for more specific information, you can try refining the query.', additional_kwargs={}, response_metadata={'token_usage': {'completion_tokens': 65, 'prompt_tokens': 284, 'total_tokens': 349, 'completion_time': 0.26, 'prompt_time': 0.050117376, 'queue_time': 0.0042197590000000035, 'total_time': 0.310117376}, 'model_name': 'llama-3.1-70b-versatile', 'system_fingerprint': 'fp_5c5d1b5cfb', 'finish_reason': 'stop', 'logprobs': None}, id='run-0ac2a646-50b1-4587-a3a9-a63030ee0316-0', usage_metadata={'input_tokens': 284, 'output_tokens': 65, 'total_tokens': 349}), HumanMessage(content='What is chatgpt? Tell me about it?', additional_kwargs={}, response_metadata={}, id='24171ad5-abf0-4b9d-8f36-acb7aacdfdd1'), AIMessage(content='', additional_kwargs={'tool_calls': [{'id': 'call_5xah', 'function': {'arguments': '{\"query\": \"What is ChatGPT\"}', 'name': 'tavily_search_results_json'}, 'type': 'function'}, {'id': 'call_7npm', 'function': {'arguments': '{\"query\": \"ChatGPT information\"}', 'name': 'tavily_search_results_json'}, 'type': 'function'}]}, response_metadata={'token_usage': {'completion_tokens': 42, 'prompt_tokens': 369, 'total_tokens': 411, 'completion_time': 0.168, 'prompt_time': 0.068101238, 'queue_time': 0.0035141750000000083, 'total_time': 0.236101238}, 'model_name': 'llama-3.1-70b-versatile', 'system_fingerprint': 'fp_b6828be2c9', 'finish_reason': 'tool_calls', 'logprobs': None}, id='run-d3dbe846-05ce-43fe-b561-e972a581cb2a-0', tool_calls=[{'name': 'tavily_search_results_json', 'args': {'query': 'What is ChatGPT'}, 'id': 'call_5xah', 'type': 'tool_call'}, {'name': 'tavily_search_results_json', 'args': {'query': 'ChatGPT information'}, 'id': 'call_7npm', 'type': 'tool_call'}], usage_metadata={'input_tokens': 369, 'output_tokens': 42, 'total_tokens': 411}), ToolMessage(content='[{\"url\": \"https://openai.com/index/chatgpt/\", \"content\": \"ChatGPT is a model that interacts in a dialogue format and can answer followup questions, admit mistakes, and reject inappropriate requests. It is trained using reinforcement learning from human feedback and fine-tuned from GPT-3.5.\"}, {\"url\": \"https://openai.com/chatgpt/overview/\", \"content\": \"ChatGPT is a free and easy-to-use app that can help you with writing, learning, brainstorming, and more. You can type or talk to ChatGPT and get answers, inspiration, and productivity tips from GPT-4 and other models.\"}, {\"url\": \"https://www.techradar.com/news/chatgpt-explained\", \"content\": \"ChatGPT explained: everything you need to know about the AI chatbot\\\\nChatGPT is changing fast –\\xa0here\\'s everything you need to know\\\\nWe\\'ve recently seen an explosion in the number and the ability of generative artificial intelligence (AI) tools available to everyone, and OpenAI\\'s ChatGPT is leading the way. But ChatGPT was the AI chatbot that took the concept mainstream, earning it another multi-billion investment from Microsoft, which said that it was as important as the invention of the PC and the internet.\\\\n While GPT-4 isn\\'t a revolutionary leap from GPT-3.5, it is another important step towards chatbots and AI-powered apps that stick closer to the facts and don\\'t go haywire in the ways that we\\'ve seen in the recent past.\\\\n OpenAI also says that safety is a big focus of GPT-4, with OpenAI working for over six months to put it through a better monitoring framework and by alongside experts is a range of specialist fields, like medicine and geopolitics, to make sure its answers are both accurate and sensitive.\\\\n This means you can show it images and it will respond to them alongside a text prompt –\\xa0an early example of this, noted by The New York Times, involved giving GPT-4 a photo of some fridge contents and asking what meals you could make from the ingredients.\\\\n\"}]', name='tavily_search_results_json', id='6ee9392e-ff4b-4233-9009-93e03ac85848', tool_call_id='call_5xah', artifact={'query': 'What is ChatGPT', 'follow_up_questions': None, 'answer': None, 'images': [], 'results': [{'title': 'Introducing ChatGPT - OpenAI', 'url': 'https://openai.com/index/chatgpt/', 'content': 'ChatGPT is a model that interacts in a dialogue format and can answer followup questions, admit mistakes, and reject inappropriate requests. It is trained using reinforcement learning from human feedback and fine-tuned from GPT-3.5.', 'score': 0.9998634, 'raw_content': None}, {'title': 'ChatGPT | OpenAI', 'url': 'https://openai.com/chatgpt/overview/', 'content': 'ChatGPT is a free and easy-to-use app that can help you with writing, learning, brainstorming, and more. You can type or talk to ChatGPT and get answers, inspiration, and productivity tips from GPT-4 and other models.', 'score': 0.99983, 'raw_content': None}, {'title': 'What is ChatGPT? Everything you need to know about the AI chatbot', 'url': 'https://www.techradar.com/news/chatgpt-explained', 'content': \"ChatGPT explained: everything you need to know about the AI chatbot\\nChatGPT is changing fast –\\xa0here's everything you need to know\\nWe've recently seen an explosion in the number and the ability of generative artificial intelligence (AI) tools available to everyone, and OpenAI's ChatGPT is leading the way. But ChatGPT was the AI chatbot that took the concept mainstream, earning it another multi-billion investment from Microsoft, which said that it was as important as the invention of the PC and the internet.\\n While GPT-4 isn't a revolutionary leap from GPT-3.5, it is another important step towards chatbots and AI-powered apps that stick closer to the facts and don't go haywire in the ways that we've seen in the recent past.\\n OpenAI also says that safety is a big focus of GPT-4, with OpenAI working for over six months to put it through a better monitoring framework and by alongside experts is a range of specialist fields, like medicine and geopolitics, to make sure its answers are both accurate and sensitive.\\n This means you can show it images and it will respond to them alongside a text prompt –\\xa0an early example of this, noted by The New York Times, involved giving GPT-4 a photo of some fridge contents and asking what meals you could make from the ingredients.\\n\", 'score': 0.99933076, 'raw_content': None}], 'response_time': 2.31}), ToolMessage(content='[{\"url\": \"https://www.zdnet.com/article/how-does-chatgpt-work/\", \"content\": \"ChatGPT is an AI chatbot that can produce fully fleshed-out answers and results based on most of the world\\'s digitally-accessible text-based information. Learn how it uses non-supervised pre-training and transformer architecture to parse queries and generate text.\"}, {\"url\": \"https://openai.com/index/chatgpt/\", \"content\": \"ChatGPT is a model that interacts in a dialogue format and can answer followup questions, admit mistakes, and reject inappropriate requests. It is a research preview and free to use at chatgpt.com. See samples of how it responds to various topics and questions.\"}, {\"url\": \"https://www.techradar.com/news/chatgpt-explained\", \"content\": \"ChatGPT explained: everything you need to know about the AI chatbot\\\\nChatGPT is changing fast –\\xa0here\\'s everything you need to know\\\\nWe\\'ve recently seen an explosion in the number and the ability of generative artificial intelligence (AI) tools available to everyone, and OpenAI\\'s ChatGPT is leading the way. But ChatGPT was the AI chatbot that took the concept mainstream, earning it another multi-billion investment from Microsoft, which said that it was as important as the invention of the PC and the internet.\\\\n While GPT-4 isn\\'t a revolutionary leap from GPT-3.5, it is another important step towards chatbots and AI-powered apps that stick closer to the facts and don\\'t go haywire in the ways that we\\'ve seen in the recent past.\\\\n OpenAI also says that safety is a big focus of GPT-4, with OpenAI working for over six months to put it through a better monitoring framework and by alongside experts is a range of specialist fields, like medicine and geopolitics, to make sure its answers are both accurate and sensitive.\\\\n This means you can show it images and it will respond to them alongside a text prompt –\\xa0an early example of this, noted by The New York Times, involved giving GPT-4 a photo of some fridge contents and asking what meals you could make from the ingredients.\\\\n\"}]', name='tavily_search_results_json', id='26c399c4-8968-4601-b6ce-a79b452e142a', tool_call_id='call_7npm', artifact={'query': 'ChatGPT information', 'follow_up_questions': None, 'answer': None, 'images': [], 'results': [{'title': 'How does ChatGPT actually work? - ZDNET', 'url': 'https://www.zdnet.com/article/how-does-chatgpt-work/', 'content': \"ChatGPT is an AI chatbot that can produce fully fleshed-out answers and results based on most of the world's digitally-accessible text-based information. Learn how it uses non-supervised pre-training and transformer architecture to parse queries and generate text.\", 'score': 0.9997086, 'raw_content': None}, {'title': 'Introducing ChatGPT - OpenAI', 'url': 'https://openai.com/index/chatgpt/', 'content': 'ChatGPT is a model that interacts in a dialogue format and can answer followup questions, admit mistakes, and reject inappropriate requests. It is a research preview and free to use at chatgpt.com. See samples of how it responds to various topics and questions.', 'score': 0.9996947, 'raw_content': None}, {'title': 'What is ChatGPT? Everything you need to know about the AI chatbot', 'url': 'https://www.techradar.com/news/chatgpt-explained', 'content': \"ChatGPT explained: everything you need to know about the AI chatbot\\nChatGPT is changing fast –\\xa0here's everything you need to know\\nWe've recently seen an explosion in the number and the ability of generative artificial intelligence (AI) tools available to everyone, and OpenAI's ChatGPT is leading the way. But ChatGPT was the AI chatbot that took the concept mainstream, earning it another multi-billion investment from Microsoft, which said that it was as important as the invention of the PC and the internet.\\n While GPT-4 isn't a revolutionary leap from GPT-3.5, it is another important step towards chatbots and AI-powered apps that stick closer to the facts and don't go haywire in the ways that we've seen in the recent past.\\n OpenAI also says that safety is a big focus of GPT-4, with OpenAI working for over six months to put it through a better monitoring framework and by alongside experts is a range of specialist fields, like medicine and geopolitics, to make sure its answers are both accurate and sensitive.\\n This means you can show it images and it will respond to them alongside a text prompt –\\xa0an early example of this, noted by The New York Times, involved giving GPT-4 a photo of some fridge contents and asking what meals you could make from the ingredients.\\n\", 'score': 0.9988883, 'raw_content': None}], 'response_time': 2.47}), AIMessage(content='ChatGPT is a model that interacts in a dialogue format and can answer follow-up questions, admit mistakes, and reject inappropriate requests. It is trained using reinforcement learning from human feedback and fine-tuned from GPT-3.5. ChatGPT is a free and easy-to-use app that can help you with writing, learning, brainstorming, and more. You can type or talk to ChatGPT and get answers, inspiration, and productivity tips from GPT-4 and other models. It is a research preview and free to use at chatgpt.com.', additional_kwargs={}, response_metadata={'token_usage': {'completion_tokens': 117, 'prompt_tokens': 1334, 'total_tokens': 1451, 'completion_time': 0.468, 'prompt_time': 0.233328988, 'queue_time': 0.003676948000000013, 'total_time': 0.701328988}, 'model_name': 'llama-3.1-70b-versatile', 'system_fingerprint': 'fp_5c5d1b5cfb', 'finish_reason': 'stop', 'logprobs': None}, id='run-244ddb40-3a5a-4900-86fe-3327dbf679e5-0', usage_metadata={'input_tokens': 1334, 'output_tokens': 117, 'total_tokens': 1451}), HumanMessage(content='Tell me about the latest version?', additional_kwargs={}, response_metadata={}, id='b1790dea-c6eb-4bcd-80a9-91b6db8732f4'), AIMessage(content='', additional_kwargs={'tool_calls': [{'id': 'call_v0xc', 'function': {'arguments': '{\"query\": \"ChatGPT latest version\"}', 'name': 'tavily_search_results_json'}, 'type': 'function'}, {'id': 'call_t3f5', 'function': {'arguments': '{\"query\": \"ChatGPT updates\"}', 'name': 'tavily_search_results_json'}, 'type': 'function'}, {'id': 'call_3jy7', 'function': {'arguments': '{\"query\": \"ChatGPT new features\"}', 'name': 'tavily_search_results_json'}, 'type': 'function'}]}, response_metadata={'token_usage': {'completion_tokens': 63, 'prompt_tokens': 1467, 'total_tokens': 1530, 'completion_time': 0.252, 'prompt_time': 0.253736808, 'queue_time': 0.0037476600000000415, 'total_time': 0.505736808}, 'model_name': 'llama-3.1-70b-versatile', 'system_fingerprint': 'fp_9260b4bb2e', 'finish_reason': 'tool_calls', 'logprobs': None}, id='run-61cf829c-84b4-479b-a89e-fb1ea8eb0b4e-0', tool_calls=[{'name': 'tavily_search_results_json', 'args': {'query': 'ChatGPT latest version'}, 'id': 'call_v0xc', 'type': 'tool_call'}, {'name': 'tavily_search_results_json', 'args': {'query': 'ChatGPT updates'}, 'id': 'call_t3f5', 'type': 'tool_call'}, {'name': 'tavily_search_results_json', 'args': {'query': 'ChatGPT new features'}, 'id': 'call_3jy7', 'type': 'tool_call'}], usage_metadata={'input_tokens': 1467, 'output_tokens': 63, 'total_tokens': 1530}), ToolMessage(content='[{\"url\": \"https://www.bbc.co.uk/news/technology-64959346\", \"content\": \"OpenAI has released GPT-4, the latest version of its hugely popular artificial intelligence chatbot ChatGPT. The new model can respond to images - providing recipe suggestions from photos of\"}, {\"url\": \"https://openai.com/index/gpt-4o-and-more-tools-to-chatgpt-free/\", \"content\": \"ChatGPT introduces GPT-4o, a faster and more capable model that can understand and discuss images, and offers more intelligence and advanced features for free users. Learn how to access GPT-4o, Voice Mode, Memory, GPT Store and more in the new desktop app and website.\"}, {\"url\": \"https://openai.com/index/gpt-4/\", \"content\": \"Training with human feedback We incorporated more human feedback, including feedback submitted by ChatGPT users, to improve GPT-4\\'s behavior. We also worked with over 50 experts for early feedback in domains including AI safety and security. ... Research GPT-4 is the latest milestone in OpenAI\\'s effort in scaling up deep learning. View GPT\"}]', name='tavily_search_results_json', id='36b0e20d-5718-4609-9e07-4cd9bec04dbf', tool_call_id='call_v0xc', artifact={'query': 'ChatGPT latest version', 'follow_up_questions': None, 'answer': None, 'images': [], 'results': [{'title': 'OpenAI announces ChatGPT successor GPT-4 - BBC News', 'url': 'https://www.bbc.co.uk/news/technology-64959346', 'content': 'OpenAI has released GPT-4, the latest version of its hugely popular artificial intelligence chatbot ChatGPT. The new model can respond to images - providing recipe suggestions from photos of', 'score': 0.99947864, 'raw_content': None}, {'title': 'Introducing GPT-4o and more tools to ChatGPT free users', 'url': 'https://openai.com/index/gpt-4o-and-more-tools-to-chatgpt-free/', 'content': 'ChatGPT introduces GPT-4o, a faster and more capable model that can understand and discuss images, and offers more intelligence and advanced features for free users. Learn how to access GPT-4o, Voice Mode, Memory, GPT Store and more in the new desktop app and website.', 'score': 0.98934746, 'raw_content': None}, {'title': 'GPT-4 - OpenAI', 'url': 'https://openai.com/index/gpt-4/', 'content': \"Training with human feedback We incorporated more human feedback, including feedback submitted by ChatGPT users, to improve GPT-4's behavior. We also worked with over 50 experts for early feedback in domains including AI safety and security. ... Research GPT-4 is the latest milestone in OpenAI's effort in scaling up deep learning. View GPT\", 'score': 0.94825053, 'raw_content': None}], 'response_time': 2.58}), ToolMessage(content='[{\"url\": \"https://www.wired.com/story/chatgpt-ai-search-update-openai/\", \"content\": \"ChatGPT’s AI Search Tool Is Now Available | WIRED OpenAI just launched its AI search update for ChatGPT. In the lead up ChatGPT’s search upgrade, OpenAI reached content licensing deals with multiple online publishers, like The Atlantic, Vox Media, and Condé Nast, which is the parent company of this very publication. After a few hours of testing a pre-launch version of ChatGPT’s new AI search, it’s clear to me that OpenAI has made significant progress since its initial, messy foray into web browsing, with more interactive elements and clearer attribution of its sources. During a demo, Fry offered an example of ChatGPT search as a potential starting point for when you\\'re on the hunt to find new products, and demonstrated by prompting the tool to look for WIRED’s pick for the best electric bike.\"}, {\"url\": \"https://arstechnica.com/information-technology/2023/09/chatgpt-goes-multimodal-with-image-recognition-and-speech-synthesis/\", \"content\": \"Navigate\\\\nFilter by topic\\\\nSettings\\\\nFront page layout\\\\nSite theme\\\\nChatGPT update enables its AI to “see, hear, and speak,” according to OpenAI\\\\nImage recognition and voice features aim to make the AI bot\\'s interface more intuitive.\\\\n Benj Edwards\\\\n-\\\\nSep 25, 2023 6:38 pm UTC\\\\nOn Monday, OpenAI announced a significant update to ChatGPT that enables its GPT-3.5 and GPT-4 AI models to analyze images and react to them as part of a text conversation. Once the feature rolls out, the company says that users can engage the feature by opting in to voice conversations in the app\\'s settings and then selecting from five different synthetic voices with names like \\\\\"Juniper,\\\\\" \\\\\"Sky,\\\\\" \\\\\"Cove,\\\\\" \\\\\"Ember,\\\\\" and \\\\\"Breeze.\\\\\" OpenAI has not released technical details of how GPT-4 or its multimodal version, GPT-4V, operate under the hood, but based on known AI research from others (including OpenAI partner Microsoft), multimodal AI models typically transform text and images into a shared encoding space, which enables them to process various types of data through the same neural network. Further Reading\\\\nMeanwhile in audio land, ChatGPT\\'s new voice synthesis feature reportedly allows for back-and-forth spoken conversation with ChatGPT, driven by what OpenAI calls a \\\\\"new text-to-speech model,\\\\\" although text-to-speech has been solved for a long time.\"}, {\"url\": \"https://help.openai.com/en/articles/9624314-model-release-notes\", \"content\": \"Find out the latest updates and features of ChatGPT, the conversational AI model powered by GPT-4 and GPT-4o. Learn about canvas, advanced voice, o1 models, and more.\"}]', name='tavily_search_results_json', id='958ec41a-80a5-4dcd-afdf-f25237e94486', tool_call_id='call_t3f5', artifact={'query': 'ChatGPT updates', 'follow_up_questions': None, 'answer': None, 'images': [], 'results': [{'title': \"ChatGPT's AI Search Tool Is Now Available - WIRED\", 'url': 'https://www.wired.com/story/chatgpt-ai-search-update-openai/', 'content': \"ChatGPT’s AI Search Tool Is Now Available | WIRED OpenAI just launched its AI search update for ChatGPT. In the lead up ChatGPT’s search upgrade, OpenAI reached content licensing deals with multiple online publishers, like The Atlantic, Vox Media, and Condé Nast, which is the parent company of this very publication. After a few hours of testing a pre-launch version of ChatGPT’s new AI search, it’s clear to me that OpenAI has made significant progress since its initial, messy foray into web browsing, with more interactive elements and clearer attribution of its sources. During a demo, Fry offered an example of ChatGPT search as a potential starting point for when you're on the hunt to find new products, and demonstrated by prompting the tool to look for WIRED’s pick for the best electric bike.\", 'score': 0.99939287, 'raw_content': None}, {'title': 'ChatGPT update enables its AI to \"see, hear, and speak,\" according to ...', 'url': 'https://arstechnica.com/information-technology/2023/09/chatgpt-goes-multimodal-with-image-recognition-and-speech-synthesis/', 'content': 'Navigate\\nFilter by topic\\nSettings\\nFront page layout\\nSite theme\\nChatGPT update enables its AI to “see, hear, and speak,” according to OpenAI\\nImage recognition and voice features aim to make the AI bot\\'s interface more intuitive.\\n Benj Edwards\\n-\\nSep 25, 2023 6:38 pm UTC\\nOn Monday, OpenAI announced a significant update to ChatGPT that enables its GPT-3.5 and GPT-4 AI models to analyze images and react to them as part of a text conversation. Once the feature rolls out, the company says that users can engage the feature by opting in to voice conversations in the app\\'s settings and then selecting from five different synthetic voices with names like \"Juniper,\" \"Sky,\" \"Cove,\" \"Ember,\" and \"Breeze.\" OpenAI has not released technical details of how GPT-4 or its multimodal version, GPT-4V, operate under the hood, but based on known AI research from others (including OpenAI partner Microsoft), multimodal AI models typically transform text and images into a shared encoding space, which enables them to process various types of data through the same neural network. Further Reading\\nMeanwhile in audio land, ChatGPT\\'s new voice synthesis feature reportedly allows for back-and-forth spoken conversation with ChatGPT, driven by what OpenAI calls a \"new text-to-speech model,\" although text-to-speech has been solved for a long time.', 'score': 0.9993857, 'raw_content': None}, {'title': 'Model Release Notes - OpenAI Help Center', 'url': 'https://help.openai.com/en/articles/9624314-model-release-notes', 'content': 'Find out the latest updates and features of ChatGPT, the conversational AI model powered by GPT-4 and GPT-4o. Learn about canvas, advanced voice, o1 models, and more.', 'score': 0.9985506, 'raw_content': None}], 'response_time': 2.09}), ToolMessage(content='[{\"url\": \"https://www.searchenginejournal.com/6-new-chatgpt-features-include-prompt-examples-file-uploads/493240/\", \"content\": \"6 New ChatGPT Features Include Prompt Examples & File Uploads\\\\nWith GPT-4 as the new default, longer login duration, and suggested replies, these new ChatGPT features make AI even more user-friendly.\\\\nOpenAI, the company behind the cutting-edge language model ChatGPT, announced six new features in the latest version to enhance user interaction.\\\\n SEO Trends 2024\\\\n10 SEO Problems You Never Knew You Had – And How To Solve Them\\\\nIn a world ruled by algorithms, SEJ brings timely, relevant information for SEOs, marketers, and entrepreneurs to optimize and grow their businesses -- and careers.\\\\n SEO Trends 2024\\\\nIf you’re looking for ways to level up your SEO strategy and prepare for the year ahead, our SEO Trends 2024 ebook is the ultimate authoritative resource.\\\\n If you’re looking for ways to level up your SEO strategy and prepare for the year ahead, our SEO Trends 2024 ebook is the ultimate authoritative resource.\\\\n If you’re looking for ways to level up your SEO strategy and prepare for the year ahead, our SEO Trends 2024 ebook is the ultimate authoritative resource.\\\\n\"}, {\"url\": \"https://openai.com/index/introducing-chatgpt-search/\", \"content\": \"ChatGPT can now search the web in a much better way than before. You can get fast, timely answers with links to relevant web sources, which you would have previously needed to go to a search engine for. ... SearchGPT is a prototype of new AI search features. Oct 3, 2024. Oct 3, 2024. Oct 3, 2024. Introducing canvas, a new way to write and code\"}, {\"url\": \"https://openai.com/chatgpt/overview/\", \"content\": \"Write a message that goes with a kitten gif for a friend on a rough day (opens in a new window) Test my knowledge on ancient civilizations (opens in a new window) ... Explore more features in ChatGPT. Type, talk, and use it your way. With ChatGPT, you can type or start a real-time voice conversation by tapping the soundwave icon in the mobile app.\"}]', name='tavily_search_results_json', id='eb8dba4e-2298-4f59-a3e1-0294e50a4b23', tool_call_id='call_3jy7', artifact={'query': 'ChatGPT new features', 'follow_up_questions': None, 'answer': None, 'images': [], 'results': [{'title': '6 New ChatGPT Features Include Prompt Examples & File Uploads', 'url': 'https://www.searchenginejournal.com/6-new-chatgpt-features-include-prompt-examples-file-uploads/493240/', 'content': '6 New ChatGPT Features Include Prompt Examples & File Uploads\\nWith GPT-4 as the new default, longer login duration, and suggested replies, these new ChatGPT features make AI even more user-friendly.\\nOpenAI, the company behind the cutting-edge language model ChatGPT, announced six new features in the latest version to enhance user interaction.\\n SEO Trends 2024\\n10 SEO Problems You Never Knew You Had – And How To Solve Them\\nIn a world ruled by algorithms, SEJ brings timely, relevant information for SEOs, marketers, and entrepreneurs to optimize and grow their businesses -- and careers.\\n SEO Trends 2024\\nIf you’re looking for ways to level up your SEO strategy and prepare for the year ahead, our SEO Trends 2024 ebook is the ultimate authoritative resource.\\n If you’re looking for ways to level up your SEO strategy and prepare for the year ahead, our SEO Trends 2024 ebook is the ultimate authoritative resource.\\n If you’re looking for ways to level up your SEO strategy and prepare for the year ahead, our SEO Trends 2024 ebook is the ultimate authoritative resource.\\n', 'score': 0.99958104, 'raw_content': None}, {'title': 'Introducing ChatGPT search - OpenAI', 'url': 'https://openai.com/index/introducing-chatgpt-search/', 'content': 'ChatGPT can now search the web in a much better way than before. You can get fast, timely answers with links to relevant web sources, which you would have previously needed to go to a search engine for. ... SearchGPT is a prototype of new AI search features. Oct 3, 2024. Oct 3, 2024. Oct 3, 2024. Introducing canvas, a new way to write and code', 'score': 0.9993513, 'raw_content': None}, {'title': 'ChatGPT | OpenAI', 'url': 'https://openai.com/chatgpt/overview/', 'content': 'Write a message that goes with a kitten gif for a friend on a rough day (opens in a new window) Test my knowledge on ancient civilizations (opens in a new window) ... Explore more features in ChatGPT. Type, talk, and use it your way. With ChatGPT, you can type or start a real-time voice conversation by tapping the soundwave icon in the mobile app.', 'score': 0.9987306, 'raw_content': None}], 'response_time': 2.06}), AIMessage(content='The latest version of ChatGPT, GPT-4, has several new features, including the ability to respond to images, provide recipe suggestions from photos of ingredients, and engage in voice conversations with users. The model has also been trained with more human feedback and has improved its ability to understand and discuss images. Additionally, ChatGPT has introduced a new text-to-speech model, which allows for back-and-forth spoken conversation with the AI. The latest version also includes features such as canvas, advanced voice, and o1 models.', additional_kwargs={}, response_metadata={'token_usage': {'completion_tokens': 110, 'prompt_tokens': 2904, 'total_tokens': 3014, 'completion_time': 0.44, 'prompt_time': 0.548028212, 'queue_time': 0.04521232200000003, 'total_time': 0.988028212}, 'model_name': 'llama-3.1-70b-versatile', 'system_fingerprint': 'fp_9260b4bb2e', 'finish_reason': 'stop', 'logprobs': None}, id='run-6198b667-9cfa-4203-93b0-004b087a6c45-0', usage_metadata={'input_tokens': 2904, 'output_tokens': 110, 'total_tokens': 3014}), HumanMessage(content='What were we talking about?', additional_kwargs={}, response_metadata={}, id='f293620e-e5de-4fa0-803f-b70397566860'), AIMessage(content='We were talking about ChatGPT, a model that interacts in a dialogue format and can answer follow-up questions, admit mistakes, and reject inappropriate requests. We discussed its latest version, GPT-4, and its new features, such as responding to images, providing recipe suggestions, and engaging in voice conversations.', additional_kwargs={}, response_metadata={'token_usage': {'completion_tokens': 64, 'prompt_tokens': 3029, 'total_tokens': 3093, 'completion_time': 0.256, 'prompt_time': 0.578427191, 'queue_time': 0.003810607999999993, 'total_time': 0.834427191}, 'model_name': 'llama-3.1-70b-versatile', 'system_fingerprint': 'fp_5c5d1b5cfb', 'finish_reason': 'stop', 'logprobs': None}, id='run-b49cb873-3c90-466e-816a-2dd6df91e359-0', usage_metadata={'input_tokens': 3029, 'output_tokens': 64, 'total_tokens': 3093})]}, next=(), config={'configurable': {'thread_id': '1', 'checkpoint_ns': '', 'checkpoint_id': '1ef9e5a5-7474-6c92-800e-da32d558c81b'}}, metadata={'source': 'loop', 'writes': {'chatbot': {'messages': [AIMessage(content='We were talking about ChatGPT, a model that interacts in a dialogue format and can answer follow-up questions, admit mistakes, and reject inappropriate requests. We discussed its latest version, GPT-4, and its new features, such as responding to images, providing recipe suggestions, and engaging in voice conversations.', additional_kwargs={}, response_metadata={'token_usage': {'completion_tokens': 64, 'prompt_tokens': 3029, 'total_tokens': 3093, 'completion_time': 0.256, 'prompt_time': 0.578427191, 'queue_time': 0.003810607999999993, 'total_time': 0.834427191}, 'model_name': 'llama-3.1-70b-versatile', 'system_fingerprint': 'fp_5c5d1b5cfb', 'finish_reason': 'stop', 'logprobs': None}, id='run-b49cb873-3c90-466e-816a-2dd6df91e359-0', usage_metadata={'input_tokens': 3029, 'output_tokens': 64, 'total_tokens': 3093})]}}, 'thread_id': '1', 'step': 14, 'parents': {}}, created_at='2024-11-09T05:20:32.031041+00:00', parent_config={'configurable': {'thread_id': '1', 'checkpoint_ns': '', 'checkpoint_id': '1ef9e5a5-63e7-602b-800d-94cf08cb6c46'}}, tasks=())\n"
     ]
    }
   ],
   "source": [
    "config = {'configurable': {'thread_id': '1'}}\n",
    "snapshot = graph.get_state(config)\n",
    "print(snapshot)"
   ]
  }
 ],
 "metadata": {
  "kernelspec": {
   "display_name": ".venv",
   "language": "python",
   "name": "python3"
  },
  "language_info": {
   "codemirror_mode": {
    "name": "ipython",
    "version": 3
   },
   "file_extension": ".py",
   "mimetype": "text/x-python",
   "name": "python",
   "nbconvert_exporter": "python",
   "pygments_lexer": "ipython3",
   "version": "3.10.0"
  }
 },
 "nbformat": 4,
 "nbformat_minor": 2
}
