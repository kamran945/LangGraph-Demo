{
 "cells": [
  {
   "cell_type": "code",
   "execution_count": 1,
   "metadata": {},
   "outputs": [
    {
     "data": {
      "text/plain": [
       "True"
      ]
     },
     "execution_count": 1,
     "metadata": {},
     "output_type": "execute_result"
    }
   ],
   "source": [
    "import os\n",
    "from typing import TypedDict, List, Annotated\n",
    "\n",
    "from langchain_core.messages import AnyMessage, SystemMessage, HumanMessage, AIMessage, ChatMessage\n",
    "from langgraph.graph import StateGraph, END\n",
    "from langchain_groq.chat_models import ChatGroq\n",
    "\n",
    "from langgraph.checkpoint.sqlite import SqliteSaver\n",
    "from langgraph.checkpoint.memory import MemorySaver\n",
    "\n",
    "# from langchain_core.pydantic_v1 import BaseModel\n",
    "from pydantic import BaseModel\n",
    "\n",
    "from IPython.display import Image, display\n",
    "\n",
    "from tavily import TavilyClient\n",
    "\n",
    "# Loading the API key from .env\n",
    "from dotenv import load_dotenv, find_dotenv\n",
    "load_dotenv(find_dotenv(), override=True)"
   ]
  },
  {
   "cell_type": "code",
   "execution_count": 2,
   "metadata": {},
   "outputs": [],
   "source": [
    "class AgentState(TypedDict):\n",
    "    task: str # The name of the task, provided by the user.\n",
    "    max_revisions: int # The maximum number of revisions, provided by the user.\n",
    "    revision_number: int \n",
    "    plan: str\n",
    "    draft: str\n",
    "    critique: str\n",
    "    docs: List[str]\n"
   ]
  },
  {
   "cell_type": "code",
   "execution_count": 3,
   "metadata": {},
   "outputs": [],
   "source": [
    "llm = ChatGroq(model=\"llama-3.1-70b-versatile\",\n",
    "               stop_sequences=\"[end]\",\n",
    "               temperature=0.)"
   ]
  },
  {
   "cell_type": "code",
   "execution_count": 4,
   "metadata": {},
   "outputs": [],
   "source": [
    "PLAN_PROMT = \"\"\"\n",
    "    You are a skilled writer. Create a comprehensive outline for a high-level essay.\n",
    "    Write a detailed outline on the topic provided by the user.\n",
    "    Provide a structured essay outline, accompanied by relevant notes and section guidelines.\n",
    "\"\"\"\n",
    "SEARCH_QUERIES_PROMPT = \"\"\"\n",
    "     You are a researcher charged with providing information that can be used when writing the following essay.\n",
    "     Generate a list of targeted search queries to gather relevant information for the essay.\n",
    "     Generate a maximumn of 3 search queries.\n",
    "\"\"\"\n",
    "WRITER_PROMPT = \"\"\"\n",
    "     Write a high-quality 5-paragraph essay based on the provided information.\n",
    "     Create an essay that meets the user's request and adheres to the initial outline.\n",
    "     Essay should adhere to the initial outline including headings of intial outline.\n",
    "     If the user provides feedback, revise your previous essay and submit an improved version.\n",
    "     Use all the information provided below as necessary to complete the essay:\n",
    "\n",
    "     ----------------------------\n",
    "\n",
    "     {content}\n",
    "\"\"\"\n",
    "REFLECTION_PROMPT = \"\"\"\n",
    "     You are to evaluate the user's essay submission and provide a detailed critique.\n",
    "     Generate recommendations for the user's submission, including suggestions for improvement in length, depth, and style.\n",
    "     Provide specific feedback to the user on how to enhance their essay, addressing areas such as organization, tone, and clarity etc.\n",
    "\"\"\"\n",
    "CRITIQUE_PROMPT = \"\"\"\n",
    "     You are a researcher charged to identify and provide information for potential revisions (as outlined below).\n",
    "     Generate a list of up to three relevant search queries to gather necessary information.\n",
    "\"\"\"\n"
   ]
  },
  {
   "cell_type": "code",
   "execution_count": 5,
   "metadata": {},
   "outputs": [],
   "source": [
    "class Queries(BaseModel):\n",
    "    queries: List[str]"
   ]
  },
  {
   "cell_type": "code",
   "execution_count": 6,
   "metadata": {},
   "outputs": [],
   "source": [
    "tavily = TavilyClient()"
   ]
  },
  {
   "cell_type": "code",
   "execution_count": null,
   "metadata": {},
   "outputs": [],
   "source": [
    "def plan_node(state: AgentState):\n",
    "    messages = [\n",
    "        SystemMessage(content=PLAN_PROMT),\n",
    "        HumanMessage(content=state['task'])\n",
    "    ]\n",
    "    response = llm.invoke(messages)\n",
    "    return {'plan': response.content}"
   ]
  },
  {
   "cell_type": "code",
   "execution_count": null,
   "metadata": {},
   "outputs": [],
   "source": [
    "def research_node(state: AgentState):\n",
    "    queries = llm.with_structured_output(Queries).invoke([\n",
    "        SystemMessage(content=SEARCH_QUERIES_PROMPT),\n",
    "        HumanMessage(content=state['task'])\n",
    "    ])\n",
    "    docs = state.get('docs', [])\n",
    "\n",
    "    for query in queries.queries:\n",
    "        response = tavily.search(query=query, max_results=2)\n",
    "        for r in response['results']:\n",
    "            docs.append(r['content'])\n",
    "    # print(f\"research_node: {docs}\")\n",
    "    return {'docs': docs}\n"
   ]
  },
  {
   "cell_type": "code",
   "execution_count": null,
   "metadata": {},
   "outputs": [],
   "source": [
    "def writer_node(state: AgentState):\n",
    "    content = \"\\n\\n\".join(state.get('docs', []))\n",
    "    messages = [\n",
    "        SystemMessage(content=WRITER_PROMPT.format(content=content)),\n",
    "        HumanMessage(content=(\n",
    "            f\"{state['task']}\\n\\nHere is the plan: {state['plan']}\"\n",
    "        ))\n",
    "    ]\n",
    "    response = llm.invoke(messages)\n",
    "    return {\n",
    "        'draft': response.content,\n",
    "        'revision_number': state.get('revision_number', 1) + 1\n",
    "    }"
   ]
  },
  {
   "cell_type": "code",
   "execution_count": null,
   "metadata": {},
   "outputs": [],
   "source": [
    "def reflection_node(state: AgentState):\n",
    "    \n",
    "    messages = [\n",
    "        SystemMessage(content=REFLECTION_PROMPT),\n",
    "        HumanMessage(content=state['draft'])\n",
    "    ]\n",
    "    response = llm.invoke(messages)\n",
    "    return {'critique': response.content}"
   ]
  },
  {
   "cell_type": "code",
   "execution_count": null,
   "metadata": {},
   "outputs": [],
   "source": [
    "def critique_research_node(state: AgentState):\n",
    "    queries = llm.with_structured_output(Queries).invoke([\n",
    "        SystemMessage(content=CRITIQUE_PROMPT),\n",
    "        HumanMessage(content=state['critique'])\n",
    "    ])\n",
    "    docs = state.get('docs', [])\n",
    "\n",
    "    for query in queries.queries:\n",
    "        response = tavily.search(query=query, max_results=2)\n",
    "        for r in response['results']:\n",
    "            docs.append(r['content'])\n",
    "    return {'docs': docs}\n",
    "    "
   ]
  },
  {
   "cell_type": "code",
   "execution_count": 12,
   "metadata": {},
   "outputs": [],
   "source": [
    "def should_continue(state: AgentState):\n",
    "    if state['revision_number'] > state['max_revisions']:\n",
    "        return END\n",
    "    return 'reflector'"
   ]
  },
  {
   "cell_type": "code",
   "execution_count": 13,
   "metadata": {},
   "outputs": [
    {
     "data": {
      "text/plain": [
       "<langgraph.graph.state.StateGraph at 0x1acc9338a00>"
      ]
     },
     "execution_count": 13,
     "metadata": {},
     "output_type": "execute_result"
    }
   ],
   "source": [
    "graph_builder = StateGraph(AgentState)\n",
    "\n",
    "# Adding nodes to the graph\n",
    "graph_builder.add_node('planner', plan_node)\n",
    "graph_builder.add_node('writer', writer_node)\n",
    "graph_builder.add_node('reflector', reflection_node)\n",
    "graph_builder.add_node('researcher', research_node)\n",
    "graph_builder.add_node('critique_researcher', critique_research_node)\n",
    "\n",
    "# Setting the entry point of the state graph\n",
    "graph_builder.set_entry_point('planner')\n",
    "\n",
    "# Adding the conditional edge\n",
    "graph_builder.add_conditional_edges(\n",
    "    'writer', \n",
    "    should_continue, \n",
    "    {END: END, 'reflector': 'reflector'}\n",
    ")\n",
    "\n",
    "graph_builder.add_edge('planner', 'researcher')\n",
    "graph_builder.add_edge('researcher', 'writer')\n",
    "\n",
    "graph_builder.add_edge('reflector', 'critique_researcher')\n",
    "graph_builder.add_edge('critique_researcher', 'writer')\n"
   ]
  },
  {
   "cell_type": "code",
   "execution_count": 14,
   "metadata": {},
   "outputs": [],
   "source": [
    "memory = SqliteSaver.from_conn_string(':memory:')\n",
    "graph = graph_builder.compile(checkpointer=MemorySaver())"
   ]
  },
  {
   "cell_type": "code",
   "execution_count": 15,
   "metadata": {},
   "outputs": [
    {
     "data": {
      "image/jpeg": "[encoded data removed]",
      "text/plain": [
       "<IPython.core.display.Image object>"
      ]
     },
     "metadata": {},
     "output_type": "display_data"
    }
   ],
   "source": [
    "display(Image(graph.get_graph().draw_mermaid_png()))"
   ]
  },
  {
   "cell_type": "code",
   "execution_count": 16,
   "metadata": {},
   "outputs": [
    {
     "name": "stdout",
     "output_type": "stream",
     "text": [
      "{'planner': {'plan': '**Essay Title:** \"Revolutionizing Human-Computer Interaction: The Synergy of Large Language Models and LangChain\"\\n\\n**I. Introduction**\\n\\n* Hook: The rapid advancement of artificial intelligence has led to the development of large language models and LangChain, transforming the way humans interact with computers.\\n* Background: Brief overview of large language models and LangChain, highlighting their individual capabilities and limitations.\\n* Thesis statement: The integration of large language models and LangChain has the potential to revolutionize human-computer interaction, enabling more efficient, intuitive, and personalized experiences.\\n\\n**II. Large Language Models: Capabilities and Limitations**\\n\\n* Definition: Explanation of large language models, including their architecture, training data, and applications.\\n* Capabilities:\\n\\t+ Natural language processing (NLP) and understanding\\n\\t+ Text generation and summarization\\n\\t+ Conversational AI and dialogue systems\\n* Limitations:\\n\\t+ Lack of common sense and real-world experience\\n\\t+ Limited contextual understanding and reasoning\\n\\t+ Potential biases and errors in training data\\n\\n**III. LangChain: A Framework for Human-Computer Interaction**\\n\\n* Definition: Explanation of LangChain, including its architecture, components, and applications.\\n* Capabilities:\\n\\t+ Modular and flexible framework for building conversational AI systems\\n\\t+ Integration with various language models and tools\\n\\t+ Support for multimodal interaction and feedback\\n* Limitations:\\n\\t+ Complexity and steep learning curve\\n\\t+ Limited support for edge cases and exceptions\\n\\n**IV. Synergy between Large Language Models and LangChain**\\n\\n* Integration: Explanation of how large language models can be integrated with LangChain to create more powerful and flexible conversational AI systems.\\n* Benefits:\\n\\t+ Improved contextual understanding and reasoning\\n\\t+ Enhanced natural language processing and generation\\n\\t+ Increased efficiency and personalization in human-computer interaction\\n* Examples: Real-world applications and case studies demonstrating the synergy between large language models and LangChain.\\n\\n**V. Challenges and Future Directions**\\n\\n* Challenges:\\n\\t+ Addressing biases and errors in training data\\n\\t+ Improving common sense and real-world experience in language models\\n\\t+ Balancing complexity and usability in LangChain\\n* Future directions:\\n\\t+ Advancements in multimodal interaction and feedback\\n\\t+ Integration with other AI technologies, such as computer vision and robotics\\n\\t+ Development of more transparent and explainable AI systems\\n\\n**VI. Conclusion**\\n\\n* Restate thesis statement\\n* Summarize key points and takeaways\\n* Final thoughts: The integration of large language models and LangChain has the potential to revolutionize human-computer interaction, but it requires careful consideration of challenges and limitations to ensure a seamless and intuitive experience.\\n\\n**Notes and Section Guidelines:**\\n\\n* Use technical terms and jargon sparingly, and provide explanations for non-experts.\\n* Include examples and case studies to illustrate key concepts and applications.\\n* Use transitional phrases and sentences to connect ideas and sections.\\n* Use clear and concise headings and subheadings to organize the essay.\\n* Use proper citation and referencing to credit sources and avoid plagiarism.'}}\n",
      "----------------------------------------------------------------------------------------------------\n",
      "{'researcher': {'docs': ['Large Language Models (LLMs) recently demonstrated extraordinary capability in various natural language processing (NLP) tasks including language translation, text generation, question answering, etc. Moreover, LLMs are new and essential part of computerized language processing, having the ability to understand complex verbal patterns and generate coherent and appropriate replies in a given', 'A Comprehensive Overview of Large Language Models. Large Language Models (LLMs) have recently demonstrated remarkable capabilities in natural language processing tasks and beyond. This success of LLMs has led to a large influx of research contributions in this direction. These works encompass diverse topics such as architectural innovations', 'A LangChain model is an abstraction that represents different types of models used in the framework. There are three main types of models in LangChain: LLMs (Large Language Models): These models take a text string as input and return a text string as output. They are the backbone of many language model applications.', 'Its key features include:\\nModular and flexible approach to building applications\\nIntegration with semantic search and retrieval augmented generation\\nIdeal choice for developers looking to harness the full potential of LLMs\\nLangChain sets itself apart from other tools, making it an ideal choice for developers looking to harness the full potential of LLMs.\\nBenefits of LangChain\\nLangChain provides a modular and flexible approach to constructing applications with Large Language Models, allowing for the creation of powerful and tailored solutions. Create Stunning Thumbnails with a Free Thumbnail Creator\\nGet Professional Photo Editing with ClipDrop App in 2023\\nDiscover the Power of You.com – The AI-Infused Search Engine of the Future\\nExploring Home Assistant: A Guide to Set-Up, Integrations, and Key Terminology\\nAmplifying Business Operations: The Best EPOS Systems in 2023\\nBoost Your Writing with LanguageTool – Grammar, Style & Spell Checker\\nUsing GFPGAN for Real-World Face Restoration in 2023\\nThe Art of NightCafe AI – An In-Depth Look into AI Art Generators\\nUsing PhotoRoom App for Creative and Professional Photo Editing\\nBlock Ads and Trackers with AdGuard DNS in 2023\\n© 2023 Hotbot.com To create a prompt template using the LangChain library, follow these steps:\\nDefine the structure of the prompt, including the number of words, the type of words, and the order of the words.\\n By providing a robust framework for creating chatbots and summarization tools, LangChain enables the rapid and accurate processing of large amounts of data, making it an ideal solution for developers looking to create intelligent and linguistically savvy applications that are highly enriched with language capabilities.\\n By leveraging semantic search, LangChain can:\\nImprove the efficiency and accuracy of information retrieval from large datasets\\nAugment the power of LLMs\\nEnable developers to build sophisticated applications with ease.\\n', 'Tailoring the alignment of large language models (LLMs) to individuals is a new frontier in generative AI, but unbounded personalization can bring potential harm, such as large-scale profiling', 'The integration of large language models (LLMs) into mental healthcare and research heralds a potentially transformative shift, one offering enhanced access to care, efficient data collection, and']}}\n",
      "----------------------------------------------------------------------------------------------------\n",
      "{'writer': {'revision_number': 2, 'draft': 'Revolutionizing Human-Computer Interaction: The Synergy of Large Language Models and LangChain\\n\\nThe rapid advancement of artificial intelligence has led to the development of large language models and LangChain, transforming the way humans interact with computers. Large language models have demonstrated remarkable capabilities in natural language processing tasks, while LangChain provides a modular and flexible framework for building conversational AI systems. The integration of these two technologies has the potential to revolutionize human-computer interaction, enabling more efficient, intuitive, and personalized experiences.\\n\\nLarge Language Models: Capabilities and Limitations\\n\\nLarge language models are a type of artificial intelligence designed to process and understand human language. These models are trained on vast amounts of text data, allowing them to learn patterns and relationships in language. Large language models have numerous capabilities, including natural language processing and understanding, text generation and summarization, and conversational AI and dialogue systems. For instance, they can be used to generate human-like text, answer questions, and engage in conversations. However, large language models also have limitations. They lack common sense and real-world experience, which can lead to errors and biases in their responses. Additionally, they have limited contextual understanding and reasoning, which can make it difficult for them to understand complex queries or engage in nuanced conversations.\\n\\nLangChain: A Framework for Human-Computer Interaction\\n\\nLangChain is a framework designed to facilitate the development of conversational AI systems. It provides a modular and flexible architecture that allows developers to integrate various language models and tools. LangChain supports multimodal interaction and feedback, enabling users to interact with systems using different modalities such as text, speech, and gestures. The framework also provides a range of tools and libraries that make it easier to develop and deploy conversational AI systems. However, LangChain also has limitations. It has a steep learning curve, which can make it challenging for developers to learn and use. Additionally, LangChain has limited support for edge cases and exceptions, which can make it difficult to handle unexpected user inputs or behaviors.\\n\\nSynergy between Large Language Models and LangChain\\n\\nThe integration of large language models and LangChain has the potential to revolutionize human-computer interaction. By combining the capabilities of large language models with the flexibility and modularity of LangChain, developers can create more powerful and flexible conversational AI systems. For instance, large language models can be used to generate human-like text and responses, while LangChain can be used to integrate these models with other tools and modalities. This synergy enables improved contextual understanding and reasoning, enhanced natural language processing and generation, and increased efficiency and personalization in human-computer interaction. Real-world applications and case studies demonstrate the potential of this synergy. For example, conversational AI systems developed using large language models and LangChain have been used in customer service, healthcare, and education.\\n\\nChallenges and Future Directions\\n\\nDespite the potential of the synergy between large language models and LangChain, there are several challenges that need to be addressed. One of the main challenges is addressing biases and errors in training data, which can affect the performance and fairness of large language models. Another challenge is improving common sense and real-world experience in language models, which can enable them to better understand complex queries and engage in nuanced conversations. Additionally, balancing complexity and usability in LangChain is crucial to ensure that the framework is accessible to a wide range of developers. Future directions for research and development include advancements in multimodal interaction and feedback, integration with other AI technologies such as computer vision and robotics, and development of more transparent and explainable AI systems.\\n\\nIn conclusion, the integration of large language models and LangChain has the potential to revolutionize human-computer interaction. By combining the capabilities of large language models with the flexibility and modularity of LangChain, developers can create more powerful and flexible conversational AI systems. However, addressing challenges and limitations is crucial to ensure a seamless and intuitive experience. As the field continues to evolve, we can expect to see more advanced and sophisticated conversational AI systems that transform the way humans interact with computers.'}}\n",
      "----------------------------------------------------------------------------------------------------\n",
      "{'reflector': {'critique': '**Overall Assessment**\\n\\nThe essay provides a comprehensive overview of the synergy between large language models and LangChain, highlighting their capabilities, limitations, and potential applications in human-computer interaction. The author demonstrates a good understanding of the subject matter and presents a clear and well-structured argument. However, there are areas that require improvement to enhance the essay\\'s depth, clarity, and style.\\n\\n**Recommendations for Improvement**\\n\\n1. **Length**: The essay is well-structured, but some sections could be expanded to provide more depth and analysis. For example, the section on \"Challenges and Future Directions\" could be longer to provide more specific examples and potential solutions.\\n2. **Depth**: While the essay provides a good overview of the subject matter, some sections could benefit from more in-depth analysis. For example, the section on \"Large Language Models: Capabilities and Limitations\" could delve deeper into the technical aspects of language models and their limitations.\\n3. **Style**: The essay is written in a clear and concise manner, but some sections could benefit from more engaging and dynamic language. For example, the introduction could be more attention-grabbing, and the conclusion could be more thought-provoking.\\n4. **Organization**: The essay is well-organized, but some sections could be rearranged to improve the flow of the argument. For example, the section on \"LangChain: A Framework for Human-Computer Interaction\" could be placed before the section on \"Large Language Models: Capabilities and Limitations\" to provide a clearer understanding of the framework before discussing its limitations.\\n\\n**Specific Feedback**\\n\\n1. **Introduction**: The introduction is clear and concise, but it could be more engaging and attention-grabbing. Consider starting with a thought-provoking question or a surprising statistic to grab the reader\\'s attention.\\n2. **Section Transitions**: The transitions between sections could be smoother. Consider using transitional phrases or sentences to connect the ideas between sections.\\n3. **Technical Terms**: The essay uses technical terms such as \"natural language processing\" and \"conversational AI systems.\" While these terms are relevant to the subject matter, they could be explained in more detail for readers who may not be familiar with them.\\n4. **Examples and Case Studies**: The essay provides some examples and case studies, but more could be included to illustrate the potential applications of the synergy between large language models and LangChain.\\n5. **Conclusion**: The conclusion is clear and concise, but it could be more thought-provoking. Consider ending with a question or a call to action to leave the reader with something to think about.\\n\\n**Tone and Clarity**\\n\\n1. **Tone**: The tone of the essay is formal and academic, which is suitable for the subject matter. However, some sections could benefit from a more conversational tone to make the essay more engaging and accessible to a wider audience.\\n2. **Clarity**: The essay is clear and concise, but some sections could benefit from more precise language to avoid ambiguity. For example, the section on \"Challenges and Future Directions\" could be more specific about the challenges and potential solutions.\\n\\n**Organization and Structure**\\n\\n1. **Introduction**: The introduction is clear and concise, but it could be more engaging and attention-grabbing.\\n2. **Body Paragraphs**: The body paragraphs are well-organized, but some could benefit from more specific examples and analysis to support the argument.\\n3. **Conclusion**: The conclusion is clear and concise, but it could be more thought-provoking and leave the reader with something to think about.\\n\\n**Mechanics and Grammar**\\n\\n1. **Grammar**: The essay is free of grammatical errors, but some sentences could be rephrased for clarity and concision.\\n2. **Punctuation**: The essay is well-punctuated, but some commas could be added to improve sentence clarity.\\n3. **Spelling**: The essay is free of spelling errors, but some words could be double-checked to ensure accuracy.\\n\\nOverall, the essay provides a comprehensive overview of the synergy between large language models and LangChain, but some areas require improvement to enhance the essay\\'s depth, clarity, and style.'}}\n",
      "----------------------------------------------------------------------------------------------------\n",
      "{'critique_researcher': {'docs': ['Large Language Models (LLMs) recently demonstrated extraordinary capability in various natural language processing (NLP) tasks including language translation, text generation, question answering, etc. Moreover, LLMs are new and essential part of computerized language processing, having the ability to understand complex verbal patterns and generate coherent and appropriate replies in a given', 'A Comprehensive Overview of Large Language Models. Large Language Models (LLMs) have recently demonstrated remarkable capabilities in natural language processing tasks and beyond. This success of LLMs has led to a large influx of research contributions in this direction. These works encompass diverse topics such as architectural innovations', 'A LangChain model is an abstraction that represents different types of models used in the framework. There are three main types of models in LangChain: LLMs (Large Language Models): These models take a text string as input and return a text string as output. They are the backbone of many language model applications.', 'Its key features include:\\nModular and flexible approach to building applications\\nIntegration with semantic search and retrieval augmented generation\\nIdeal choice for developers looking to harness the full potential of LLMs\\nLangChain sets itself apart from other tools, making it an ideal choice for developers looking to harness the full potential of LLMs.\\nBenefits of LangChain\\nLangChain provides a modular and flexible approach to constructing applications with Large Language Models, allowing for the creation of powerful and tailored solutions. Create Stunning Thumbnails with a Free Thumbnail Creator\\nGet Professional Photo Editing with ClipDrop App in 2023\\nDiscover the Power of You.com – The AI-Infused Search Engine of the Future\\nExploring Home Assistant: A Guide to Set-Up, Integrations, and Key Terminology\\nAmplifying Business Operations: The Best EPOS Systems in 2023\\nBoost Your Writing with LanguageTool – Grammar, Style & Spell Checker\\nUsing GFPGAN for Real-World Face Restoration in 2023\\nThe Art of NightCafe AI – An In-Depth Look into AI Art Generators\\nUsing PhotoRoom App for Creative and Professional Photo Editing\\nBlock Ads and Trackers with AdGuard DNS in 2023\\n© 2023 Hotbot.com To create a prompt template using the LangChain library, follow these steps:\\nDefine the structure of the prompt, including the number of words, the type of words, and the order of the words.\\n By providing a robust framework for creating chatbots and summarization tools, LangChain enables the rapid and accurate processing of large amounts of data, making it an ideal solution for developers looking to create intelligent and linguistically savvy applications that are highly enriched with language capabilities.\\n By leveraging semantic search, LangChain can:\\nImprove the efficiency and accuracy of information retrieval from large datasets\\nAugment the power of LLMs\\nEnable developers to build sophisticated applications with ease.\\n', 'Tailoring the alignment of large language models (LLMs) to individuals is a new frontier in generative AI, but unbounded personalization can bring potential harm, such as large-scale profiling', 'The integration of large language models (LLMs) into mental healthcare and research heralds a potentially transformative shift, one offering enhanced access to care, efficient data collection, and', 'Four tips for Organization. In general, the purpose of the essay should dictate the organization of the essay—ask yourself what claims you need to establish in order for your reader to believe that your main claim is right. The claims that help establish your main claim are called \"supporting claims.\". In many cases, each supporting claim', \"Organization and Structure. There is no single organizational pattern that works well for all writing across all disciplines; rather, organization depends on what you're writing, who you're writing it for, and where your writing will be read. In order to communicate your ideas, you'll need to use a logical and consistent organizational\", 'An in-depth analysis essay probes beyond superficial layers to examine the components of an object or a topic of interest. As you brainstorm ideas, you improve your perception and hone your critical thinking skills, which will help you write a focused and comprehensive in-depth analysis essay. This essay expounds upon the conclusions you have', \"1. Comprehensive Reading. The first step towards a successful critical analysis essay is in-depth engagement with the text you'll analyse. If you are working with a single text, that means understanding the author's point of view to form the foundation of your essay. Take your time and delve into the text to explore its deeper meanings and\", 'Use Powerful Language. Choosing strong and impactful language in your essay conclusion can leave a lasting impression on your readers. Avoid using dull or generic words and opt for vivid and evocative language instead. Use words that emphasize the significance of your ideas and reinforce your main points. Consider using powerful verbs, vivid', \"Writing an essay introduction is like creating a doorway into your paper - it's the first thing your reader will encounter and can make a lasting impression. A captivating introduction sets the tone for your entire essay and entices the reader to keep reading. To craft an introduction that grabs attention and piques curiosity, consider these tips.\"]}}\n",
      "----------------------------------------------------------------------------------------------------\n",
      "{'writer': {'revision_number': 3, 'draft': \"Revolutionizing Human-Computer Interaction: The Synergy of Large Language Models and LangChain\\n\\nThe rapid advancement of artificial intelligence has led to the development of large language models and LangChain, transforming the way humans interact with computers. Large language models have demonstrated remarkable capabilities in natural language processing tasks, while LangChain provides a modular and flexible framework for building conversational AI systems. The integration of these two technologies has the potential to revolutionize human-computer interaction, enabling more efficient, intuitive, and personalized experiences. This essay will explore the capabilities and limitations of large language models and LangChain, and examine the synergy between these two technologies.\\n\\nLarge Language Models: Capabilities and Limitations\\n\\nLarge language models are a type of artificial intelligence designed to process and understand human language. These models are trained on vast amounts of text data, which enables them to learn patterns and relationships in language. Large language models have several capabilities, including natural language processing and understanding, text generation and summarization, and conversational AI and dialogue systems. For example, large language models can be used to generate human-like text, summarize long documents, and engage in conversation with humans.\\n\\nHowever, large language models also have several limitations. One of the main limitations is the lack of common sense and real-world experience. Large language models are trained on text data, which can be limited in its scope and context. This can lead to errors and biases in the model's output. Additionally, large language models can struggle with contextual understanding and reasoning, which can make it difficult for them to engage in nuanced and complex conversations.\\n\\nLangChain: A Framework for Human-Computer Interaction\\n\\nLangChain is a modular and flexible framework for building conversational AI systems. It provides a set of tools and components that can be used to integrate large language models with other technologies, such as computer vision and robotics. LangChain enables developers to build conversational AI systems that can interact with humans in a more natural and intuitive way. For example, LangChain can be used to build chatbots that can understand and respond to human language, or to create virtual assistants that can perform tasks and answer questions.\\n\\nHowever, LangChain also has several limitations. One of the main limitations is the complexity and steep learning curve of the framework. LangChain requires a high degree of technical expertise to use, which can make it difficult for developers to integrate it into their applications. Additionally, LangChain can struggle with edge cases and exceptions, which can make it difficult to build conversational AI systems that are robust and reliable.\\n\\nSynergy between Large Language Models and LangChain\\n\\nThe integration of large language models and LangChain has the potential to revolutionize human-computer interaction. By combining the capabilities of large language models with the flexibility and modularity of LangChain, developers can build conversational AI systems that are more powerful and intuitive. For example, large language models can be used to generate human-like text and engage in conversation with humans, while LangChain can be used to integrate the model with other technologies and provide a more natural and intuitive interface.\\n\\nThe benefits of integrating large language models and LangChain are numerous. One of the main benefits is improved contextual understanding and reasoning. By combining the capabilities of large language models with the flexibility and modularity of LangChain, developers can build conversational AI systems that can understand and respond to human language in a more nuanced and complex way. Additionally, the integration of large language models and LangChain can enable more efficient and personalized human-computer interaction. For example, large language models can be used to generate personalized text and recommendations, while LangChain can be used to integrate the model with other technologies and provide a more natural and intuitive interface.\\n\\nChallenges and Future Directions\\n\\nDespite the potential benefits of integrating large language models and LangChain, there are several challenges that must be addressed. One of the main challenges is addressing biases and errors in training data. Large language models are trained on vast amounts of text data, which can be limited in its scope and context. This can lead to errors and biases in the model's output, which can be difficult to detect and correct.\\n\\nAnother challenge is improving common sense and real-world experience in language models. Large language models are trained on text data, which can be limited in its scope and context. This can make it difficult for the model to understand and respond to human language in a more nuanced and complex way.\\n\\nFinally, there is the challenge of balancing complexity and usability in LangChain. LangChain is a complex and flexible framework that requires a high degree of technical expertise to use. This can make it difficult for developers to integrate it into their applications, which can limit its adoption and use.\\n\\nIn terms of future directions, there are several areas that are worth exploring. One area is the integration of large language models and LangChain with other AI technologies, such as computer vision and robotics. This can enable more natural and intuitive human-computer interaction, and can provide a more seamless and integrated experience.\\n\\nAnother area is the development of more transparent and explainable AI systems. Large language models and LangChain can be complex and difficult to understand, which can make it difficult to detect and correct errors. By developing more transparent and explainable AI systems, developers can build trust and confidence in the technology, and can provide a more seamless and integrated experience.\\n\\nConclusion\\n\\nIn conclusion, the integration of large language models and LangChain has the potential to revolutionize human-computer interaction. By combining the capabilities of large language models with the flexibility and modularity of LangChain, developers can build conversational AI systems that are more powerful and intuitive. However, there are several challenges that must be addressed, including addressing biases and errors in training data, improving common sense and real-world experience in language models, and balancing complexity and usability in LangChain. By addressing these challenges and exploring new areas of research and development, developers can build more natural and intuitive human-computer interaction systems that are more efficient, personalized, and effective.\"}}\n",
      "----------------------------------------------------------------------------------------------------\n"
     ]
    }
   ],
   "source": [
    "thread = {'configurable': {'thread_id': '1'}}\n",
    "task = 'Large Language Models and LangChain'\n",
    "\n",
    "prompt = {\n",
    "    'task': task,\n",
    "    'max_revisions': 2,\n",
    "    'revision_number': 1,\n",
    "}\n",
    "\n",
    "events = graph.stream(prompt, thread)\n",
    "# print(events)\n",
    "for e in events:\n",
    "    print(e)\n",
    "    print('-' * 100)"
   ]
  },
  {
   "cell_type": "code",
   "execution_count": 17,
   "metadata": {},
   "outputs": [
    {
     "name": "stdout",
     "output_type": "stream",
     "text": [
      "Revolutionizing Human-Computer Interaction: The Synergy of Large Language Models and LangChain\n",
      "\n",
      "The rapid advancement of artificial intelligence has led to the development of large language models and LangChain, transforming the way humans interact with computers. Large language models have demonstrated remarkable capabilities in natural language processing tasks, while LangChain provides a modular and flexible framework for building conversational AI systems. The integration of these two technologies has the potential to revolutionize human-computer interaction, enabling more efficient, intuitive, and personalized experiences. This essay will explore the capabilities and limitations of large language models and LangChain, and examine the synergy between these two technologies.\n",
      "\n",
      "Large Language Models: Capabilities and Limitations\n",
      "\n",
      "Large language models are a type of artificial intelligence designed to process and understand human language. These models are trained on vast amounts of text data, which enables them to learn patterns and relationships in language. Large language models have several capabilities, including natural language processing and understanding, text generation and summarization, and conversational AI and dialogue systems. For example, large language models can be used to generate human-like text, summarize long documents, and engage in conversation with humans.\n",
      "\n",
      "However, large language models also have several limitations. One of the main limitations is the lack of common sense and real-world experience. Large language models are trained on text data, which can be limited in its scope and context. This can lead to errors and biases in the model's output. Additionally, large language models can struggle with contextual understanding and reasoning, which can make it difficult for them to engage in nuanced and complex conversations.\n",
      "\n",
      "LangChain: A Framework for Human-Computer Interaction\n",
      "\n",
      "LangChain is a modular and flexible framework for building conversational AI systems. It provides a set of tools and components that can be used to integrate large language models with other technologies, such as computer vision and robotics. LangChain enables developers to build conversational AI systems that can interact with humans in a more natural and intuitive way. For example, LangChain can be used to build chatbots that can understand and respond to human language, or to create virtual assistants that can perform tasks and answer questions.\n",
      "\n",
      "However, LangChain also has several limitations. One of the main limitations is the complexity and steep learning curve of the framework. LangChain requires a high degree of technical expertise to use, which can make it difficult for developers to integrate it into their applications. Additionally, LangChain can struggle with edge cases and exceptions, which can make it difficult to build conversational AI systems that are robust and reliable.\n",
      "\n",
      "Synergy between Large Language Models and LangChain\n",
      "\n",
      "The integration of large language models and LangChain has the potential to revolutionize human-computer interaction. By combining the capabilities of large language models with the flexibility and modularity of LangChain, developers can build conversational AI systems that are more powerful and intuitive. For example, large language models can be used to generate human-like text and engage in conversation with humans, while LangChain can be used to integrate the model with other technologies and provide a more natural and intuitive interface.\n",
      "\n",
      "The benefits of integrating large language models and LangChain are numerous. One of the main benefits is improved contextual understanding and reasoning. By combining the capabilities of large language models with the flexibility and modularity of LangChain, developers can build conversational AI systems that can understand and respond to human language in a more nuanced and complex way. Additionally, the integration of large language models and LangChain can enable more efficient and personalized human-computer interaction. For example, large language models can be used to generate personalized text and recommendations, while LangChain can be used to integrate the model with other technologies and provide a more natural and intuitive interface.\n",
      "\n",
      "Challenges and Future Directions\n",
      "\n",
      "Despite the potential benefits of integrating large language models and LangChain, there are several challenges that must be addressed. One of the main challenges is addressing biases and errors in training data. Large language models are trained on vast amounts of text data, which can be limited in its scope and context. This can lead to errors and biases in the model's output, which can be difficult to detect and correct.\n",
      "\n",
      "Another challenge is improving common sense and real-world experience in language models. Large language models are trained on text data, which can be limited in its scope and context. This can make it difficult for the model to understand and respond to human language in a more nuanced and complex way.\n",
      "\n",
      "Finally, there is the challenge of balancing complexity and usability in LangChain. LangChain is a complex and flexible framework that requires a high degree of technical expertise to use. This can make it difficult for developers to integrate it into their applications, which can limit its adoption and use.\n",
      "\n",
      "In terms of future directions, there are several areas that are worth exploring. One area is the integration of large language models and LangChain with other AI technologies, such as computer vision and robotics. This can enable more natural and intuitive human-computer interaction, and can provide a more seamless and integrated experience.\n",
      "\n",
      "Another area is the development of more transparent and explainable AI systems. Large language models and LangChain can be complex and difficult to understand, which can make it difficult to detect and correct errors. By developing more transparent and explainable AI systems, developers can build trust and confidence in the technology, and can provide a more seamless and integrated experience.\n",
      "\n",
      "Conclusion\n",
      "\n",
      "In conclusion, the integration of large language models and LangChain has the potential to revolutionize human-computer interaction. By combining the capabilities of large language models with the flexibility and modularity of LangChain, developers can build conversational AI systems that are more powerful and intuitive. However, there are several challenges that must be addressed, including addressing biases and errors in training data, improving common sense and real-world experience in language models, and balancing complexity and usability in LangChain. By addressing these challenges and exploring new areas of research and development, developers can build more natural and intuitive human-computer interaction systems that are more efficient, personalized, and effective.\n"
     ]
    }
   ],
   "source": [
    "print(e['writer']['draft'])"
   ]
  }
 ],
 "metadata": {
  "kernelspec": {
   "display_name": ".venv",
   "language": "python",
   "name": "python3"
  },
  "language_info": {
   "codemirror_mode": {
    "name": "ipython",
    "version": 3
   },
   "file_extension": ".py",
   "mimetype": "text/x-python",
   "name": "python",
   "nbconvert_exporter": "python",
   "pygments_lexer": "ipython3",
   "version": "3.10.0"
  }
 },
 "nbformat": 4,
 "nbformat_minor": 2
}
